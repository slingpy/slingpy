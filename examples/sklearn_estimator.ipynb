{
 "cells": [
  {
   "cell_type": "markdown",
   "metadata": {
    "collapsed": true,
    "pycharm": {
     "name": "#%% md\n"
    }
   },
   "source": [
    "Minimal scikit-learn example code"
   ]
  },
  {
   "cell_type": "code",
   "execution_count": 3,
   "outputs": [],
   "source": [
    "import warnings\n",
    "warnings.filterwarnings('ignore')\n",
    "\n",
    "import slingpy as sp\n",
    "from typing import AnyStr, Dict, List, Optional\n",
    "from sklearn.linear_model import LogisticRegression\n",
    "\n",
    "\n",
    "class MyApplication(sp.AbstractBaseApplication):\n",
    "    def __init__(self, output_directory: AnyStr = \"\",\n",
    "                 schedule_on_slurm: bool = False,\n",
    "                 split_index_outer: int = 0,\n",
    "                 split_index_inner: int = 0,\n",
    "                 num_splits_outer: int = 5,\n",
    "                 num_splits_inner: int = 5):\n",
    "        super().__init__(\n",
    "            output_directory=output_directory,\n",
    "            schedule_on_slurm=schedule_on_slurm,\n",
    "            split_index_outer=split_index_outer,\n",
    "            split_index_inner=split_index_inner,\n",
    "            num_splits_outer=num_splits_outer,\n",
    "            num_splits_inner=num_splits_inner\n",
    "        )\n",
    "\n",
    "    def get_metrics(self, set_name: AnyStr) -> List[sp.AbstractMetric]:\n",
    "        return [\n",
    "            sp.metrics.AreaUnderTheCurve()\n",
    "        ]\n",
    "\n",
    "    def load_data(self) -> Dict[AnyStr, sp.AbstractDataSource]:\n",
    "        data_source_x, data_source_y = sp.datasets.Iris.load_data(self.output_directory)\n",
    "\n",
    "        stratifier = sp.StratifiedSplit()\n",
    "        rest_indices, test_indices = stratifier.split(data_source_y,\n",
    "                                                      split_index=self.split_index_outer,\n",
    "                                                      num_splits=self.num_splits_outer)\n",
    "        validation_indices, training_indices = stratifier.split(data_source_y.subset(rest_indices),\n",
    "                                                                split_index=self.split_index_inner,\n",
    "                                                                num_splits=self.num_splits_inner)\n",
    "\n",
    "        return {\n",
    "            \"training_set_x\": data_source_x.subset(training_indices),\n",
    "            \"training_set_y\": data_source_y.subset(training_indices),\n",
    "            \"validation_set_x\": data_source_x.subset(validation_indices),\n",
    "            \"validation_set_y\": data_source_y.subset(validation_indices),\n",
    "            \"test_set_x\": data_source_x.subset(test_indices),\n",
    "            \"test_set_y\": data_source_y.subset(test_indices)\n",
    "        }\n",
    "\n",
    "    def get_model(self) -> sp.AbstractBaseModel:\n",
    "        model = sp.SklearnModel(LogisticRegression())\n",
    "        return model\n",
    "\n",
    "    def train_model(self, model: sp.AbstractBaseModel) -> Optional[sp.AbstractBaseModel]:\n",
    "        model.fit(self.datasets.training_set_x, self.datasets.training_set_y)\n",
    "        return model"
   ],
   "metadata": {
    "collapsed": false,
    "pycharm": {
     "name": "#%%\n"
    }
   }
  },
  {
   "cell_type": "markdown",
   "source": [
    "Run the application (nested cross validation on the specified dataset and model)"
   ],
   "metadata": {
    "collapsed": false
   }
  },
  {
   "cell_type": "code",
   "execution_count": 4,
   "outputs": [
    {
     "name": "stdout",
     "output_type": "stream",
     "text": [
      "INFO [1624973192.4286132]: Args are: {'num_splits_inner': 5, 'num_splits_outer': 5, 'output_directory': '/var/folders/9g/qmm07zt55mq14257t30grlkh0000gp/T/tmpci_76a13', 'schedule_on_slurm': False, 'split_index_inner': 0, 'split_index_outer': 0}\n",
      "INFO [1624973192.4288189]: Running version 0x000\n",
      "INFO [1624973192.4288859]: Running at 2021-06-29 15:26:32.428874\n",
      "INFO [1624973192.4289920]: There are 0 GPUs available.\n",
      "INFO [1624973192.4350350]: Run with args: {'num_splits_inner': 5, 'num_splits_outer': 5, 'output_directory': '/var/folders/9g/qmm07zt55mq14257t30grlkh0000gp/T/tmpci_76a13/outer_0/inner_0', 'schedule_on_slurm': False, 'split_index_inner': 0, 'split_index_outer': 0}\n",
      "INFO [1624973192.4943161]: Saving args to /var/folders/9g/qmm07zt55mq14257t30grlkh0000gp/T/tmpci_76a13/outer_0/inner_0/losses.pickle\n",
      "INFO [1624973192.5047731]: Performance on test OrderedDict([('AreaUnderTheCurve', array(0.48399014))])\n",
      "INFO [1624973192.5064030]: Run with args: {'num_splits_inner': 5, 'num_splits_outer': 5, 'output_directory': '/var/folders/9g/qmm07zt55mq14257t30grlkh0000gp/T/tmpci_76a13/outer_0/inner_1', 'schedule_on_slurm': False, 'split_index_inner': 1, 'split_index_outer': 0}\n",
      "INFO [1624973192.5863781]: Saving args to /var/folders/9g/qmm07zt55mq14257t30grlkh0000gp/T/tmpci_76a13/outer_0/inner_1/losses.pickle\n",
      "INFO [1624973192.5972919]: Performance on test OrderedDict([('AreaUnderTheCurve', array(0.4907438))])\n",
      "INFO [1624973192.5989389]: Run with args: {'num_splits_inner': 5, 'num_splits_outer': 5, 'output_directory': '/var/folders/9g/qmm07zt55mq14257t30grlkh0000gp/T/tmpci_76a13/outer_0/inner_2', 'schedule_on_slurm': False, 'split_index_inner': 2, 'split_index_outer': 0}\n"
     ]
    },
    {
     "name": "stderr",
     "output_type": "stream",
     "text": [
      "WARN [1624973192.4322660]: /var/folders/9g/qmm07zt55mq14257t30grlkh0000gp/T/tmpci_76a13 already existed. Its previous contents may be overwritten.\n"
     ]
    },
    {
     "name": "stdout",
     "output_type": "stream",
     "text": [
      "INFO [1624973192.6861598]: Saving args to /var/folders/9g/qmm07zt55mq14257t30grlkh0000gp/T/tmpci_76a13/outer_0/inner_2/losses.pickle\n",
      "INFO [1624973192.6975648]: Performance on test OrderedDict([('AreaUnderTheCurve', array(0.48891876))])\n",
      "INFO [1624973192.6992710]: Run with args: {'num_splits_inner': 5, 'num_splits_outer': 5, 'output_directory': '/var/folders/9g/qmm07zt55mq14257t30grlkh0000gp/T/tmpci_76a13/outer_0/inner_3', 'schedule_on_slurm': False, 'split_index_inner': 3, 'split_index_outer': 0}\n",
      "INFO [1624973192.7885189]: Saving args to /var/folders/9g/qmm07zt55mq14257t30grlkh0000gp/T/tmpci_76a13/outer_0/inner_3/losses.pickle\n",
      "INFO [1624973192.7981520]: Performance on test OrderedDict([('AreaUnderTheCurve', array(0.4886734))])\n",
      "INFO [1624973192.7998579]: Run with args: {'num_splits_inner': 5, 'num_splits_outer': 5, 'output_directory': '/var/folders/9g/qmm07zt55mq14257t30grlkh0000gp/T/tmpci_76a13/outer_0/inner_4', 'schedule_on_slurm': False, 'split_index_inner': 4, 'split_index_outer': 0}\n",
      "INFO [1624973192.8976319]: Saving args to /var/folders/9g/qmm07zt55mq14257t30grlkh0000gp/T/tmpci_76a13/outer_0/inner_4/losses.pickle\n",
      "INFO [1624973192.9085650]: Performance on test OrderedDict([('AreaUnderTheCurve', array(0.47930689))])\n",
      "INFO [1624973192.9319942]: inner_4 cross validation results (N=5) are:\n",
      "INFO [1624973192.9331069]: AreaUnderTheCurve = 0.4863265975286436 +- 0.00415869654080138 CI=( 0.4797752124261076 , 0.49056129207535853 ), median= 0.48867340247135643 min= 0.4793068866342524 max= 0.4907437958460976\n",
      "INFO [1624973192.9386721]: Run with args: {'num_splits_inner': 5, 'num_splits_outer': 5, 'output_directory': '/var/folders/9g/qmm07zt55mq14257t30grlkh0000gp/T/tmpci_76a13/outer_1/inner_0', 'schedule_on_slurm': False, 'split_index_inner': 0, 'split_index_outer': 1}\n",
      "INFO [1624973192.9980092]: Saving args to /var/folders/9g/qmm07zt55mq14257t30grlkh0000gp/T/tmpci_76a13/outer_1/inner_0/losses.pickle\n",
      "INFO [1624973193.0085480]: Performance on test OrderedDict([('AreaUnderTheCurve', array(0.48399014))])\n",
      "INFO [1624973193.0101819]: Run with args: {'num_splits_inner': 5, 'num_splits_outer': 5, 'output_directory': '/var/folders/9g/qmm07zt55mq14257t30grlkh0000gp/T/tmpci_76a13/outer_1/inner_1', 'schedule_on_slurm': False, 'split_index_inner': 1, 'split_index_outer': 1}\n",
      "INFO [1624973193.0762761]: Saving args to /var/folders/9g/qmm07zt55mq14257t30grlkh0000gp/T/tmpci_76a13/outer_1/inner_1/losses.pickle\n",
      "INFO [1624973193.0875390]: Performance on test OrderedDict([('AreaUnderTheCurve', array(0.4907438))])\n",
      "INFO [1624973193.0893178]: Run with args: {'num_splits_inner': 5, 'num_splits_outer': 5, 'output_directory': '/var/folders/9g/qmm07zt55mq14257t30grlkh0000gp/T/tmpci_76a13/outer_1/inner_2', 'schedule_on_slurm': False, 'split_index_inner': 2, 'split_index_outer': 1}\n",
      "INFO [1624973193.1617541]: Saving args to /var/folders/9g/qmm07zt55mq14257t30grlkh0000gp/T/tmpci_76a13/outer_1/inner_2/losses.pickle\n",
      "INFO [1624973193.1727738]: Performance on test OrderedDict([('AreaUnderTheCurve', array(0.48891876))])\n",
      "INFO [1624973193.1743901]: Run with args: {'num_splits_inner': 5, 'num_splits_outer': 5, 'output_directory': '/var/folders/9g/qmm07zt55mq14257t30grlkh0000gp/T/tmpci_76a13/outer_1/inner_3', 'schedule_on_slurm': False, 'split_index_inner': 3, 'split_index_outer': 1}\n",
      "INFO [1624973193.2379360]: Saving args to /var/folders/9g/qmm07zt55mq14257t30grlkh0000gp/T/tmpci_76a13/outer_1/inner_3/losses.pickle\n",
      "INFO [1624973193.2483242]: Performance on test OrderedDict([('AreaUnderTheCurve', array(0.4886734))])\n",
      "INFO [1624973193.2499781]: Run with args: {'num_splits_inner': 5, 'num_splits_outer': 5, 'output_directory': '/var/folders/9g/qmm07zt55mq14257t30grlkh0000gp/T/tmpci_76a13/outer_1/inner_4', 'schedule_on_slurm': False, 'split_index_inner': 4, 'split_index_outer': 1}\n",
      "INFO [1624973193.3487351]: Saving args to /var/folders/9g/qmm07zt55mq14257t30grlkh0000gp/T/tmpci_76a13/outer_1/inner_4/losses.pickle\n",
      "INFO [1624973193.3601201]: Performance on test OrderedDict([('AreaUnderTheCurve', array(0.47930689))])\n",
      "INFO [1624973193.3825920]: inner_4 cross validation results (N=5) are:\n",
      "INFO [1624973193.3834748]: AreaUnderTheCurve = 0.4863265975286436 +- 0.00415869654080138 CI=( 0.4797752124261076 , 0.49056129207535853 ), median= 0.48867340247135643 min= 0.4793068866342524 max= 0.4907437958460976\n",
      "INFO [1624973193.3885381]: Run with args: {'num_splits_inner': 5, 'num_splits_outer': 5, 'output_directory': '/var/folders/9g/qmm07zt55mq14257t30grlkh0000gp/T/tmpci_76a13/outer_2/inner_0', 'schedule_on_slurm': False, 'split_index_inner': 0, 'split_index_outer': 2}\n",
      "INFO [1624973193.4625320]: Saving args to /var/folders/9g/qmm07zt55mq14257t30grlkh0000gp/T/tmpci_76a13/outer_2/inner_0/losses.pickle\n",
      "INFO [1624973193.4759870]: Performance on test OrderedDict([('AreaUnderTheCurve', array(0.51140011))])\n",
      "INFO [1624973193.4778891]: Run with args: {'num_splits_inner': 5, 'num_splits_outer': 5, 'output_directory': '/var/folders/9g/qmm07zt55mq14257t30grlkh0000gp/T/tmpci_76a13/outer_2/inner_1', 'schedule_on_slurm': False, 'split_index_inner': 1, 'split_index_outer': 2}\n",
      "INFO [1624973193.5519948]: Saving args to /var/folders/9g/qmm07zt55mq14257t30grlkh0000gp/T/tmpci_76a13/outer_2/inner_1/losses.pickle\n",
      "INFO [1624973193.5635440]: Performance on test OrderedDict([('AreaUnderTheCurve', array(0.51460999))])\n",
      "INFO [1624973193.5653651]: Run with args: {'num_splits_inner': 5, 'num_splits_outer': 5, 'output_directory': '/var/folders/9g/qmm07zt55mq14257t30grlkh0000gp/T/tmpci_76a13/outer_2/inner_2', 'schedule_on_slurm': False, 'split_index_inner': 2, 'split_index_outer': 2}\n",
      "INFO [1624973193.6469769]: Saving args to /var/folders/9g/qmm07zt55mq14257t30grlkh0000gp/T/tmpci_76a13/outer_2/inner_2/losses.pickle\n",
      "INFO [1624973193.6574879]: Performance on test OrderedDict([('AreaUnderTheCurve', array(0.51281987))])\n",
      "INFO [1624973193.6589661]: Run with args: {'num_splits_inner': 5, 'num_splits_outer': 5, 'output_directory': '/var/folders/9g/qmm07zt55mq14257t30grlkh0000gp/T/tmpci_76a13/outer_2/inner_3', 'schedule_on_slurm': False, 'split_index_inner': 3, 'split_index_outer': 2}\n",
      "INFO [1624973193.7391119]: Saving args to /var/folders/9g/qmm07zt55mq14257t30grlkh0000gp/T/tmpci_76a13/outer_2/inner_3/losses.pickle\n",
      "INFO [1624973193.7492990]: Performance on test OrderedDict([('AreaUnderTheCurve', array(0.51271605))])\n",
      "INFO [1624973193.7512782]: Run with args: {'num_splits_inner': 5, 'num_splits_outer': 5, 'output_directory': '/var/folders/9g/qmm07zt55mq14257t30grlkh0000gp/T/tmpci_76a13/outer_2/inner_4', 'schedule_on_slurm': False, 'split_index_inner': 4, 'split_index_outer': 2}\n",
      "INFO [1624973193.8649249]: Saving args to /var/folders/9g/qmm07zt55mq14257t30grlkh0000gp/T/tmpci_76a13/outer_2/inner_4/losses.pickle\n",
      "INFO [1624973193.8783529]: Performance on test OrderedDict([('AreaUnderTheCurve', array(0.50664703))])\n",
      "INFO [1624973193.8919981]: inner_4 cross validation results (N=5) are:\n",
      "INFO [1624973193.8931441]: AreaUnderTheCurve = 0.5116386083052751 +- 0.0026965950924129675 CI=( 0.5071223344556678 , 0.5144309764309765 ), median= 0.5127160493827161 min= 0.5066470258136925 max= 0.5146099887766554\n",
      "INFO [1624973193.8981261]: Run with args: {'num_splits_inner': 5, 'num_splits_outer': 5, 'output_directory': '/var/folders/9g/qmm07zt55mq14257t30grlkh0000gp/T/tmpci_76a13/outer_3/inner_0', 'schedule_on_slurm': False, 'split_index_inner': 0, 'split_index_outer': 3}\n",
      "INFO [1624973193.9814558]: Saving args to /var/folders/9g/qmm07zt55mq14257t30grlkh0000gp/T/tmpci_76a13/outer_3/inner_0/losses.pickle\n",
      "INFO [1624973193.9925179]: Performance on test OrderedDict([('AreaUnderTheCurve', array(0.51140011))])\n",
      "INFO [1624973193.9942999]: Run with args: {'num_splits_inner': 5, 'num_splits_outer': 5, 'output_directory': '/var/folders/9g/qmm07zt55mq14257t30grlkh0000gp/T/tmpci_76a13/outer_3/inner_1', 'schedule_on_slurm': False, 'split_index_inner': 1, 'split_index_outer': 3}\n",
      "INFO [1624973194.0817599]: Saving args to /var/folders/9g/qmm07zt55mq14257t30grlkh0000gp/T/tmpci_76a13/outer_3/inner_1/losses.pickle\n",
      "INFO [1624973194.0925281]: Performance on test OrderedDict([('AreaUnderTheCurve', array(0.51460999))])\n",
      "INFO [1624973194.0944371]: Run with args: {'num_splits_inner': 5, 'num_splits_outer': 5, 'output_directory': '/var/folders/9g/qmm07zt55mq14257t30grlkh0000gp/T/tmpci_76a13/outer_3/inner_2', 'schedule_on_slurm': False, 'split_index_inner': 2, 'split_index_outer': 3}\n",
      "INFO [1624973194.1619542]: Saving args to /var/folders/9g/qmm07zt55mq14257t30grlkh0000gp/T/tmpci_76a13/outer_3/inner_2/losses.pickle\n",
      "INFO [1624973194.1724310]: Performance on test OrderedDict([('AreaUnderTheCurve', array(0.51281987))])\n",
      "INFO [1624973194.1743550]: Run with args: {'num_splits_inner': 5, 'num_splits_outer': 5, 'output_directory': '/var/folders/9g/qmm07zt55mq14257t30grlkh0000gp/T/tmpci_76a13/outer_3/inner_3', 'schedule_on_slurm': False, 'split_index_inner': 3, 'split_index_outer': 3}\n",
      "INFO [1624973194.2428219]: Saving args to /var/folders/9g/qmm07zt55mq14257t30grlkh0000gp/T/tmpci_76a13/outer_3/inner_3/losses.pickle\n",
      "INFO [1624973194.2537229]: Performance on test OrderedDict([('AreaUnderTheCurve', array(0.51271605))])\n",
      "INFO [1624973194.2555189]: Run with args: {'num_splits_inner': 5, 'num_splits_outer': 5, 'output_directory': '/var/folders/9g/qmm07zt55mq14257t30grlkh0000gp/T/tmpci_76a13/outer_3/inner_4', 'schedule_on_slurm': False, 'split_index_inner': 4, 'split_index_outer': 3}\n",
      "INFO [1624973194.3516622]: Saving args to /var/folders/9g/qmm07zt55mq14257t30grlkh0000gp/T/tmpci_76a13/outer_3/inner_4/losses.pickle\n",
      "INFO [1624973194.3624110]: Performance on test OrderedDict([('AreaUnderTheCurve', array(0.50664703))])\n",
      "INFO [1624973194.3833029]: inner_4 cross validation results (N=5) are:\n",
      "INFO [1624973194.3841820]: AreaUnderTheCurve = 0.5116386083052751 +- 0.0026965950924129675 CI=( 0.5071223344556678 , 0.5144309764309765 ), median= 0.5127160493827161 min= 0.5066470258136925 max= 0.5146099887766554\n",
      "INFO [1624973194.3879271]: Run with args: {'num_splits_inner': 5, 'num_splits_outer': 5, 'output_directory': '/var/folders/9g/qmm07zt55mq14257t30grlkh0000gp/T/tmpci_76a13/outer_4/inner_0', 'schedule_on_slurm': False, 'split_index_inner': 0, 'split_index_outer': 4}\n",
      "INFO [1624973194.4508300]: Saving args to /var/folders/9g/qmm07zt55mq14257t30grlkh0000gp/T/tmpci_76a13/outer_4/inner_0/losses.pickle\n",
      "INFO [1624973194.4610009]: Performance on test OrderedDict([('AreaUnderTheCurve', array(0.48399014))])\n",
      "INFO [1624973194.4625599]: Run with args: {'num_splits_inner': 5, 'num_splits_outer': 5, 'output_directory': '/var/folders/9g/qmm07zt55mq14257t30grlkh0000gp/T/tmpci_76a13/outer_4/inner_1', 'schedule_on_slurm': False, 'split_index_inner': 1, 'split_index_outer': 4}\n",
      "INFO [1624973194.5307951]: Saving args to /var/folders/9g/qmm07zt55mq14257t30grlkh0000gp/T/tmpci_76a13/outer_4/inner_1/losses.pickle\n",
      "INFO [1624973194.5415580]: Performance on test OrderedDict([('AreaUnderTheCurve', array(0.4907438))])\n",
      "INFO [1624973194.5432429]: Run with args: {'num_splits_inner': 5, 'num_splits_outer': 5, 'output_directory': '/var/folders/9g/qmm07zt55mq14257t30grlkh0000gp/T/tmpci_76a13/outer_4/inner_2', 'schedule_on_slurm': False, 'split_index_inner': 2, 'split_index_outer': 4}\n",
      "INFO [1624973194.6178260]: Saving args to /var/folders/9g/qmm07zt55mq14257t30grlkh0000gp/T/tmpci_76a13/outer_4/inner_2/losses.pickle\n",
      "INFO [1624973194.6282420]: Performance on test OrderedDict([('AreaUnderTheCurve', array(0.48891876))])\n",
      "INFO [1624973194.6299169]: Run with args: {'num_splits_inner': 5, 'num_splits_outer': 5, 'output_directory': '/var/folders/9g/qmm07zt55mq14257t30grlkh0000gp/T/tmpci_76a13/outer_4/inner_3', 'schedule_on_slurm': False, 'split_index_inner': 3, 'split_index_outer': 4}\n",
      "INFO [1624973194.7032001]: Saving args to /var/folders/9g/qmm07zt55mq14257t30grlkh0000gp/T/tmpci_76a13/outer_4/inner_3/losses.pickle\n",
      "INFO [1624973194.7139058]: Performance on test OrderedDict([('AreaUnderTheCurve', array(0.4886734))])\n",
      "INFO [1624973194.7153122]: Run with args: {'num_splits_inner': 5, 'num_splits_outer': 5, 'output_directory': '/var/folders/9g/qmm07zt55mq14257t30grlkh0000gp/T/tmpci_76a13/outer_4/inner_4', 'schedule_on_slurm': False, 'split_index_inner': 4, 'split_index_outer': 4}\n",
      "INFO [1624973194.7953091]: Saving args to /var/folders/9g/qmm07zt55mq14257t30grlkh0000gp/T/tmpci_76a13/outer_4/inner_4/losses.pickle\n",
      "INFO [1624973194.8066280]: Performance on test OrderedDict([('AreaUnderTheCurve', array(0.47930689))])\n",
      "INFO [1624973194.8323789]: inner_4 cross validation results (N=5) are:\n",
      "INFO [1624973194.8333969]: AreaUnderTheCurve = 0.4863265975286436 +- 0.00415869654080138 CI=( 0.4797752124261076 , 0.49056129207535853 ), median= 0.48867340247135643 min= 0.4793068866342524 max= 0.4907437958460976\n",
      "INFO [1624973194.8454111]: outer_4 cross validation results (N=5) are:\n",
      "INFO [1624973194.8463218]: AreaUnderTheCurve = 0.4964514018392962 +- 0.012400302153315215 CI=( 0.4863265975286436 , 0.5116386083052751 ), median= 0.4863265975286436 min= 0.4863265975286436 max= 0.5116386083052751\n",
      "INFO [1624973194.8469989]: AreaUnderTheCurve_std = 0.003573855961446015 +- 0.000716280500147169 CI=( 0.0026965950924129675 , 0.00415869654080138 ), median= 0.00415869654080138 min= 0.0026965950924129675 max= 0.00415869654080138\n",
      "INFO [1624973194.8480749]: AreaUnderTheCurve_results = 0.49645140183929615 +- 0.012924898362523684 CI=( 0.4793068866342524 , 0.5146099887766554 ), median= 0.4907437958460976 min= 0.4793068866342524 max= 0.5146099887766554\n",
      "INFO [1624973194.8513789]: Deleting output directory at /var/folders/9g/qmm07zt55mq14257t30grlkh0000gp/T/tmpci_76a13/outer_4/inner_4 because it was a temporary directory.\n"
     ]
    },
    {
     "data": {
      "text/plain": "RunResult(validation_scores={'AreaUnderTheCurve': 0.5015138039946224, 'AreaUnderTheCurve_std': 0.003281435671768332, 'AreaUnderTheCurve_results': [0.5116386083052751, 0.5116386083052751, 0.4863265975286436, 0.4863265975286436, 0.5116386083052751], 'AreaUnderTheCurve_std_std': 0.0007162805001471689, 'AreaUnderTheCurve_std_results': [0.0026965950924129675, 0.0026965950924129675, 0.00415869654080138, 0.00415869654080138, 0.0026965950924129675], 'AreaUnderTheCurve_results_std': 0.012847115291627062, 'AreaUnderTheCurve_results_results': [[array(0.51140011), array(0.51460999), array(0.51281987), array(0.51271605), array(0.50664703)], [array(0.51140011), array(0.51460999), array(0.51281987), array(0.51271605), array(0.50664703)], [array(0.48399014), array(0.4907438), array(0.48891876), array(0.4886734), array(0.47930689)], [array(0.48399014), array(0.4907438), array(0.48891876), array(0.4886734), array(0.47930689)], [array(0.51140011), array(0.51460999), array(0.51281987), array(0.51271605), array(0.50664703)]]}, test_scores={'AreaUnderTheCurve': 0.4964514018392962, 'AreaUnderTheCurve_std': 0.003573855961446015, 'AreaUnderTheCurve_results': [0.4863265975286436, 0.4863265975286436, 0.5116386083052751, 0.5116386083052751, 0.4863265975286436], 'AreaUnderTheCurve_std_std': 0.000716280500147169, 'AreaUnderTheCurve_std_results': [0.00415869654080138, 0.00415869654080138, 0.0026965950924129675, 0.0026965950924129675, 0.00415869654080138], 'AreaUnderTheCurve_results_std': 0.012924898362523684, 'AreaUnderTheCurve_results_results': [[array(0.48399014), array(0.4907438), array(0.48891876), array(0.4886734), array(0.47930689)], [array(0.48399014), array(0.4907438), array(0.48891876), array(0.4886734), array(0.47930689)], [array(0.51140011), array(0.51460999), array(0.51281987), array(0.51271605), array(0.50664703)], [array(0.51140011), array(0.51460999), array(0.51281987), array(0.51271605), array(0.50664703)], [array(0.48399014), array(0.4907438), array(0.48891876), array(0.4886734), array(0.47930689)]]})"
     },
     "execution_count": 4,
     "metadata": {},
     "output_type": "execute_result"
    }
   ],
   "source": [
    "MyApplication().run()"
   ],
   "metadata": {
    "collapsed": false,
    "pycharm": {
     "name": "#%%\n"
    }
   }
  }
 ],
 "metadata": {
  "kernelspec": {
   "display_name": "Python 3",
   "language": "python",
   "name": "python3"
  },
  "language_info": {
   "codemirror_mode": {
    "name": "ipython",
    "version": 2
   },
   "file_extension": ".py",
   "mimetype": "text/x-python",
   "name": "python",
   "nbconvert_exporter": "python",
   "pygments_lexer": "ipython2",
   "version": "2.7.6"
  }
 },
 "nbformat": 4,
 "nbformat_minor": 0
}